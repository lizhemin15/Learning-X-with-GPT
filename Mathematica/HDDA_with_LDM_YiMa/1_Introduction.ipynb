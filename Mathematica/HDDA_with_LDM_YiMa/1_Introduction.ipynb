{
 "cells": [
  {
   "cell_type": "markdown",
   "metadata": {},
   "source": [
    "## 1.1 通用任务：追求低维结构\n",
    "> \"Entities should not be multiplied without necessity.\" – William of Ockham, Law of Parsimony\n",
    "\n",
    "\n",
    "识别高维空间中信号或数据的低维结构的问题是最基本的问题之一，通过长历史，交织了许多工程和数学领域，如系统理论、模式识别、信号处理、机器学习和统计。\n"
   ]
  },
  {
   "cell_type": "markdown",
   "metadata": {},
   "source": [
    "### 1.1.1 识别动态系统和串行数据\n",
    "现实世界信号或数据的低维通常源于生成数据的内在物理机制。许多真实世界的信号或数据是对某些生成机制控制的物理过程的观察。例如，磁共振(MR)图像1是通过操纵服从麦克斯韦方程的磁场来生成的;任何机械系统(如汽车和腿机器人)的动力学都遵循牛顿的运动定律。\n",
    "\n",
    "\n"
   ]
  },
  {
   "cell_type": "markdown",
   "metadata": {},
   "source": [
    "我们来考虑一个系统理论中的 *状态-空间* 模型\n",
    "\n",
    " <div style=\"text-align:center\">\n",
    "\n",
    "$$ \\left\\{\\begin{array}{l}\\dot{\\boldsymbol{x}}(t)=f(\\boldsymbol{x}(t), \\boldsymbol{u}(t)), \\\\ \\boldsymbol{y}(t)=g(\\boldsymbol{x}(t), \\boldsymbol{u}(t)),\\end{array}\\right. $$\n",
    "\n",
    "</div>\n",
    "\n",
    "其中 $\\boldsymbol{x}\\in\\mathbb{R}^n$ 是状态，$\\boldsymbol{u}\\in\\mathbb{R}^{n_i}$为输入，且$\\boldsymbol{y}\\in\\mathbb{R}^{n_0}$是输出。由于受到这样动力学模型的限制，输出$\\boldsymbol{y}(t)$和状态$\\boldsymbol{x}(t)$都是时间$t$的函数，没有自由度且他们被限制在特定的低维子流形中."
   ]
  },
  {
   "cell_type": "markdown",
   "metadata": {},
   "source": [
    "为了看的更清楚，我们考虑一个离散的，线性的情况：\n",
    "\n",
    "<div style=\"text-align:center\">\n",
    "\n",
    "$$ \\left\\{\\begin{array}{ll}\\boldsymbol{x}(t+1) & =\\boldsymbol{A} \\boldsymbol{x}(t)+\\boldsymbol{B} \\boldsymbol{u}(t), \\\\ \\boldsymbol{y}(t) & =\\boldsymbol{C} \\boldsymbol{x}(t)+\\boldsymbol{D} \\boldsymbol{u}(t) .\\end{array}\\right. $$\n",
    "\n",
    "</div>\n",
    "\n",
    "根据系统辨识理论，观测的输出 $\\left\\{\\boldsymbol{y}(t)\\right\\}_{t=1}^\\infty$  和输入 $\\left\\{\\boldsymbol{u}(t)\\right\\}_{t=1}^\\infty$ 通过一个维度不超过 $n=\\text{dim}(\\boldsymbol{x})$ 的子空间相关联。更精确来说，让我们定义两个 Hankel 类型的矩阵：\n",
    "\n",
    "\n"
   ]
  },
  {
   "cell_type": "markdown",
   "metadata": {},
   "source": []
  },
  {
   "cell_type": "markdown",
   "metadata": {},
   "source": []
  }
 ],
 "metadata": {
  "language_info": {
   "name": "python"
  },
  "orig_nbformat": 4
 },
 "nbformat": 4,
 "nbformat_minor": 2
}
