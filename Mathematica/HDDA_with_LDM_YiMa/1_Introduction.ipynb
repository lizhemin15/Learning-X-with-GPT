{
 "cells": [
  {
   "cell_type": "markdown",
   "metadata": {},
   "source": [
    "## 1.1 通用任务：追求低维结构\n",
    "> \"Entities should not be multiplied without necessity.\" – William of Ockham, Law of Parsimony\n",
    "\n",
    "\n",
    "识别高维空间中信号或数据的低维结构的问题是最基本的问题之一，通过长历史，交织了许多工程和数学领域，如系统理论、模式识别、信号处理、机器学习和统计。\n"
   ]
  },
  {
   "cell_type": "markdown",
   "metadata": {},
   "source": [
    "### 1.1.1 识别动态系统和时序数据\n",
    "现实世界信号或数据的低维通常源于生成数据的内在物理机制。许多真实世界的信号或数据是对某些生成机制控制的物理过程的观察。例如，磁共振(MR)图像1是通过操纵服从麦克斯韦方程的磁场来生成的;任何机械系统(如汽车和腿机器人)的动力学都遵循牛顿的运动定律。\n",
    "\n",
    "\n"
   ]
  },
  {
   "cell_type": "markdown",
   "metadata": {},
   "source": [
    "我们来考虑一个系统理论中的 *状态-空间* 模型\n",
    "\n",
    "$$ \\left\\{\\begin{array}{l}\\dot{\\boldsymbol{x}}(t)=f(\\boldsymbol{x}(t), \\boldsymbol{u}(t)), \\\\ \\boldsymbol{y}(t)=g(\\boldsymbol{x}(t), \\boldsymbol{u}(t)),\\end{array}\\right. $$\n",
    "\n",
    "\n",
    "其中 $\\boldsymbol{x}\\in\\mathbb{R}^n$ 是状态，$\\boldsymbol{u}\\in\\mathbb{R}^{n_i}$为输入，且$\\boldsymbol{y}\\in\\mathbb{R}^{n_0}$是输出。由于受到这样动力学模型的限制，输出$\\boldsymbol{y}(t)$和状态$\\boldsymbol{x}(t)$都是时间$t$的函数，没有自由度且他们被限制在特定的低维子流形中."
   ]
  },
  {
   "cell_type": "markdown",
   "metadata": {},
   "source": [
    "为了看的更清楚，我们考虑一个离散的，线性的情况：\n",
    "\n",
    "\n",
    "\n",
    "$$ \\left\\{\\begin{array}{ll}\\boldsymbol{x}(t+1) & =\\boldsymbol{A} \\boldsymbol{x}(t)+\\boldsymbol{B} \\boldsymbol{u}(t), \\\\ \\boldsymbol{y}(t) & =\\boldsymbol{C} \\boldsymbol{x}(t)+\\boldsymbol{D} \\boldsymbol{u}(t) .\\end{array}\\right. $$\n",
    "\n",
    "\n",
    "\n",
    "根据系统辨识理论，观测的输出 $\\left\\{\\boldsymbol{y}(t)\\right\\}_{t=1}^\\infty$  和输入 $\\left\\{\\boldsymbol{u}(t)\\right\\}_{t=1}^\\infty$ 通过一个维度不超过 $n=\\text{dim}(\\boldsymbol{x})$ 的子空间相关联。\n",
    "\n",
    "\n"
   ]
  },
  {
   "cell_type": "markdown",
   "metadata": {},
   "source": [
    "例2 (循环神经网络, Recurrent Neural Network, RNN)\n",
    "\n",
    "注意到在现代的深度神经网络 (deep neural networks, DNN)中，状态-空间模型的变体得到了广泛的应用，包括 RNNs。 一个典型的RNN模型被称为Jordan型：\n",
    "$$ \\left\\{\\begin{array}{ll}\\boldsymbol{x}(t+1) & =\\sigma_{\\boldsymbol{x}}(\\boldsymbol{A} \\boldsymbol{x}(t)+\\boldsymbol{B} \\boldsymbol{u}(t)+\\boldsymbol{b}) \\\\ \\boldsymbol{y}(t) & =\\sigma_{\\boldsymbol{y}}(\\boldsymbol{C x}(t)+\\boldsymbol{d}),\\end{array}\\right. $$\n",
    "其中$\\sigma_x$和$\\sigma_y$都是特定的非线性激活函数。RNNs和它的许多变体从实验上表明在处理时序数据，例如声音信号，视频和自然语言时更有效。其 intrinsic low-dimensionality of such models 时捕获到结构的关键。在本书中，我们将给出一个基本的原则来理解这样的深度模型。\n"
   ]
  },
  {
   "cell_type": "markdown",
   "metadata": {},
   "source": [
    "## 1.1.2 人类世界的模式和顺序\n",
    "除了自然界，几乎所有的人类物体都是通过遵循简单的代码、规则和程序构建的，即为了经济性又为了美观。这些结构通常在纹理和装饰中以重复的图案形式出现。\n",
    "\n",
    "<div style=\"text-align:center;\">\n",
    "    <img src=\"./statics/img/1.1.png\" alt=\"图1.1从左到右:规则图案的纹理图像，汉字的二值图像几乎是对称的，北京天坦寺庙的图像，它有一个圆柱形体，表面装饰有规则的结构图案。\">\n",
    "    <h5>图1.1从左到右:规则图案的纹理图像，汉字的二值图像几乎是对称的，北京天坦寺庙的图像，它有一个圆柱形体，表面装饰有规则的结构图案。</h5>\n",
    "</div>"
   ]
  },
  {
   "cell_type": "markdown",
   "metadata": {},
   "source": [
    "## 1.1.3 高效的数据采集和处理\n",
    "\n",
    "$$ \\hat{x}(\\omega) \\doteq \\int_{-\\infty}^{\\infty} x(t) \\exp (-\\mathrm{i} \\omega t) d t $$\n",
    "\n",
    "通常在收集的信号是有限带宽的，当$\\left|\\omega\\right|\\geq \\Omega$对$\\Omega>0$,$\\hat{x}(\\omega)$是零。令$ \\mathcal{B}_{1}(\\Omega) $ 是有限带宽函数的集合，即在频谱外$[-\\Omega,\\Omega]$的傅里叶变换都会消失：\n",
    "$$ \\mathcal{B}_{1}(\\Omega) \\doteq\\left\\{x \\in L^{1}(\\mathbb{R})|\\hat{x}(\\omega)=0 \\quad \\forall| \\omega \\mid>\\Omega\\right\\} $$\n",
    "\n",
    "换句话说，所有的在$\\mathcal{B}_{1}$中的函数都有着最大的截断频率$f_{max}=\\Omega/2\\pi$。 注意到$\\mathcal{B}_{1}$在所有的函数空间中形成一个子空间，就像低秩矩阵的范围是向量空间中的子空间一样。这种结构允许我们用它们的离散样本相当的有效的来表示这样的函数。给定$\\hat{x}(\\omega)$，信号$x(t)$口蹄疫通过逆傅里变换得到：\n",
    "\n",
    "$$ x(t)=\\frac{1}{2 \\pi} \\int_{-\\infty}^{\\infty} \\hat{x}(\\omega) \\exp (\\mathfrak{i} \\omega t) d \\omega=\\frac{1}{2 \\pi} \\int_{-\\Omega}^{\\Omega} \\hat{x}(\\omega) \\exp (\\mathfrak{i} \\omega t) d \\omega $$\n",
    "\n",
    "因此如果我们视$\\hat{x}(\\omega)$为一个在谱域的周期函数，其周期为$2\\Omega$，其完全由傅里叶系数决定：\n",
    "$$ x\\left(\\frac{n \\pi}{\\Omega}\\right) \\doteq \\frac{1}{2 \\pi} \\int_{-\\Omega}^{\\Omega} \\hat{x}(\\omega) \\exp \\left(\\mathfrak{i} \\omega \\frac{n \\pi}{\\Omega}\\right) d \\omega, \\quad n=0, \\pm 1, \\pm 2, \\ldots $$\n",
    "\n",
    "注意到左边是函数$x(t)$用周期$T=\\frac{T}{\\Omega}$采样的精确值，或者等价于一个频率\n",
    "\n",
    "$$\n",
    "f=\\frac{1}{T}=2 \\cdot \\frac{\\Omega}{2 \\pi} \n",
    "$$.\n"
   ]
  },
  {
   "cell_type": "markdown",
   "metadata": {},
   "source": [
    "**事实 1.3 (Nyquist-Shannon Sampling)** 为了完整的恢复一个有限带宽的信号 $x(t)$，我们需要采样频率 $f_s$ 大于信号带宽 $B$ 的两倍，即 $f_s > 2B$。这个结论被称为 Nyquist-Shannon 采样定理。"
   ]
  },
  {
   "cell_type": "markdown",
   "metadata": {},
   "source": [
    "## 1.1.4 通过图模型来理解数据\n",
    "在现代数据科学中，我们处理的数据很可能是不是有明确的物理过程生成的数据，其生成机制可以向我们隐藏，从第一性原理中很难推导出。例如用户评分，网络文档，自然语言和基因表达数据，但是这些数据绝不是无结构的，数据之间通常具有很强的、丰富的统计相关性、依赖/独立性和因果关系。\n",
    "\n",
    "为了建模这种关系，我们可以将观测数据视为一组随机变量 $x_0\\in\\mathbb{R}^{n_0}$，其为从另一组隐藏变量$x_h\\in\\mathbb{R}^{n_h}$给出。数据的结构完全由随机向量$x=(x_o,x_h)\\in\\mathbb{R}^n$的联合分布所描述，有着$n=n_o+n_h$。现在考虑$n$个随机变量$\\left\\{x_i\\right\\}_{i=1}^N$在$x$中\n",
    "。为了简单起见，让我们假设$\\left\\{x_i\\right\\}_{i=1}^n$是联合零均值高斯分布，即$x\\sim\\mathcal{N}(0,\\Sigma)$有着一个协方差矩阵$\\Sigma\\in\\mathbb{R}^{n\\times n}$。令\n",
    "$$ \\Theta \\equiv \\Sigma^{-1} \\in \\mathbb{R}^{n \\times n} $$\n",
    "是协方差矩阵的逆。从统计来说，我们有以下著名的事实：\n",
    "\n",
    "**事实 1.4** (图模型的条件独立) 任意两个变量 $x_i$和 $x_j$ 在给定所有其它变量 $\\left\\{x_k|k\\neq i,j\\right\\}$ 都是条件独立的当且仅当$\\Theta$的第 $(i,j)$个元素满足$\\theta_{ij}=0$。\n",
    "\n",
    "$$ \\boldsymbol{\\Sigma}_{o}^{-1}=\\boldsymbol{S}+\\boldsymbol{L} \\quad \\in \\mathbb{R}^{n_{o} \\times n_{o}} $$"
   ]
  },
  {
   "cell_type": "markdown",
   "metadata": {},
   "source": []
  }
 ],
 "metadata": {
  "language_info": {
   "name": "python"
  },
  "orig_nbformat": 4
 },
 "nbformat": 4,
 "nbformat_minor": 2
}
