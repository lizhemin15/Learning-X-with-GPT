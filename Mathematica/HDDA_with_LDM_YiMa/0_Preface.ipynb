{
 "cells": [
  {
   "cell_type": "markdown",
   "metadata": {},
   "source": [
    "# 前言\n",
    "在过去，收集的数据是为了特定的目的而提供信息，实验成本昂贵，基本上每次收集的数据中的冗余信息是很少的，这个时候\n",
    "\n",
    "<center>\n",
    "\n",
    "经典假设: $ \\quad $ Data $ \\approx $ Information\n",
    "\n",
    "</center>\n",
    "\n",
    "但是新的时代，让数据获取的效率极大增大，但是着并不意味着我们获得的信息也相应增大。因为其中往往包含了大量的冗余信息。\n",
    "<div style=\"text-align:center;\">\n",
    "    <img src=\"./statics/img/0.1.png\" alt=\"图 0.1 Mary & Isabella 的图像：左边的图像的分辨率为 2, 500 × 2, 500，而右边的图像被下采样到 250 × 250，只有原始像素的第 1/100 部分。\">\n",
    "    <h5>图 0.1 Mary & Isabella 的图像：左边的图像的分辨率为 2, 500 × 2, 500，而右边的图像被下采样到 250 × 250，只有原始像素的第 1/100 部分。</h5>\n",
    "</div>\n",
    "\n",
    "\n",
    "大量的冗余，意味着我们遇到了一个新的假设：\n",
    "<center>\n",
    "\n",
    "新假设 I: $ \\quad $ Data $ \\gg $ Information.\n",
    "\n",
    "</center>\n",
    "\n",
    "<div style=\"text-align:center;\">\n",
    "    <img src=\"./statics/img/0.2.png\" alt=\"图 0.2 从墨西哥卡马特姆 ́atica Oaxaca (CMO) 举行的“应用谐波分析、海量数据集、机器学习和信号处理”的 BIRS 研讨会中检测和识别大组照片中的人脸，2016 年。\">\n",
    "    <h5>图 0.2 从墨西哥卡马特姆 ́atica Oaxaca (CMO) 举行的“应用谐波分析、海量数据集、机器学习和信号处理”的 BIRS 研讨会中检测和识别大组照片中的人脸，2016 年。</h5>\n",
    "</div>\n",
    "\n",
    "如图0.2所示，我们关注的信息其实主要是人脸，但是在这张图像里面其实和我们关注的信息相关的像素占比是非常低的，因此我们提出假设：\n",
    "\n",
    "<center>\n",
    "\n",
    "新假设 II: $ \\quad $ Data $ = $ Information + Irrelevant Data.\n",
    "\n",
    "</center>\n",
    "\n",
    "<div style=\"text-align:center;\">\n",
    "    <img src=\"./statics/img/0.3.png\" alt=\"图 0.3 用户偏好协同过滤示例：即使他或她还没有看到它，如何猜测顾客对电影的评分？\">\n",
    "    <h5>图 0.3 用户偏好协同过滤示例：即使他或她还没有看到它，如何猜测顾客对电影的评分？</h5>\n",
    "</div>\n",
    "\n",
    "如图0.3所示，许多人对电影其实有类似的品味，这也是我们能够猜测的基础，即本质上这些数据是低维(低秩)的。\n",
    "\n",
    "<center>\n",
    "\n",
    "新假设 III: $ \\quad $ Incomplete Data $ \\approx $ Complete Information.\n",
    "\n",
    "</center>\n",
    "\n",
    "\n",
    "<center>\n",
    "\n",
    "新假设: $ \\quad $ Principles $ \\stackrel{\\text { Computation }}{\\longleftrightarrow} $ Applications.\n",
    "\n",
    "</center>\n",
    "\n",
    "\n",
    "\n",
    "\n"
   ]
  },
  {
   "cell_type": "code",
   "execution_count": null,
   "metadata": {},
   "outputs": [],
   "source": []
  },
  {
   "cell_type": "code",
   "execution_count": null,
   "metadata": {},
   "outputs": [],
   "source": []
  },
  {
   "cell_type": "code",
   "execution_count": null,
   "metadata": {},
   "outputs": [],
   "source": []
  },
  {
   "cell_type": "code",
   "execution_count": null,
   "metadata": {},
   "outputs": [],
   "source": []
  },
  {
   "cell_type": "code",
   "execution_count": null,
   "metadata": {},
   "outputs": [],
   "source": []
  }
 ],
 "metadata": {
  "language_info": {
   "name": "python"
  },
  "orig_nbformat": 4
 },
 "nbformat": 4,
 "nbformat_minor": 2
}
